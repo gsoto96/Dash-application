{
  "nbformat": 4,
  "nbformat_minor": 0,
  "metadata": {
    "colab": {
      "provenance": []
    },
    "kernelspec": {
      "name": "python3",
      "display_name": "Python 3"
    },
    "language_info": {
      "name": "python"
    }
  },
  "cells": [
    {
      "cell_type": "code",
      "execution_count": null,
      "metadata": {
        "id": "d3zC4WnbobJ0"
      },
      "outputs": [],
      "source": [
        "Goal\n",
        "Create a dashboard that displays the percentage of flights running under specific distance group. Distance group is the distance intervals, every 250 miles, for flight segment. If the flight covers to 500 miles, it will be under distance group 2 (250 miles + 250 miles).\n",
        "\n",
        "Expected Output\n",
        "Below is the expected result from the lab. Our dashboard application consists of three components:\n",
        "\n",
        "Title of the application\n",
        "Description of the application\n",
        "Chart conveying the proportion of distance group by month\n",
        "\n",
        "##Get the tool ready (Terminal)\n",
        "python3 -m pip install packaging\n",
        "python3 -m pip install pandas dash\n",
        "pip3 install httpx==0.20 dash plotly\n",
        "\n",
        "# Import required packages\n",
        "import pandas as pd\n",
        "import plotly.express as px\n",
        "import dash\n",
        "import dash_html_components as html\n",
        "import dash_core_components as dcc\n",
        "\n",
        "# Read the airline data into pandas dataframe\n",
        "airline_data =  pd.read_csv('https://cf-courses-data.s3.us.cloud-object-storage.appdomain.cloud/IBMDeveloperSkillsNetwork-DV0101EN-SkillsNetwork/Data%20Files/airline_data.csv', \n",
        "                            encoding = \"ISO-8859-1\",\n",
        "                            dtype={'Div1Airport': str, 'Div1TailNum': str, \n",
        "                                   'Div2Airport': str, 'Div2TailNum': str})\n",
        "\n",
        "# Randomly sample 500 data points. Setting the random state to be 42 so that we get same result.\n",
        "data = airline_data.sample(n=500, random_state=42)\n",
        "\n",
        "# Pie Chart Creation\n",
        "fig = px.pie(data, values='Flights', names='DistanceGroup', title='Distance group proportion by flights')\n",
        "\n",
        "# Create a dash application\n",
        "app = dash.Dash(__name__)\n",
        "\n",
        "# Get the layout of the application and adjust it.\n",
        "# Create an outer division using html.Div and add title to the dashboard using html.H1 component\n",
        "# Add description about the graph using HTML P (paragraph) component\n",
        "# Finally, add graph component.\n",
        "app.layout = html.Div(children=[html.H1('Airline Dashboard', style={'textAlign': 'center', 'color': '#503D36', 'font-size': 40}),\n",
        "                                html.P('Proportion of distance group (250 mile distance interval group) by flights.', style={'textAlign':'center', 'color': '#F57241'}),\n",
        "                                dcc.Graph(figure=fig),\n",
        "                                               \n",
        "                    ])\n",
        "\n",
        "# Run the application                   \n",
        "if __name__ == '__main__':\n",
        "    app.run_server()\n",
        "\n",
        "## Run the python file by adding the following in the terminal\n",
        "\n",
        "python3 dash_basics.py"
      ]
    }
  ]
}